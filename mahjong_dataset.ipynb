{
  "nbformat": 4,
  "nbformat_minor": 2,
  "metadata": {
    "colab": {
      "name": "mahjong-dataset.ipynb",
      "provenance": [],
      "collapsed_sections": []
    },
    "kernelspec": {
      "display_name": "Python 3",
      "name": "python3"
    },
    "language_info": {
      "name": "python"
    }
  },
  "cells": [
    {
      "cell_type": "markdown",
      "source": [
        "**Import libraries**"
      ],
      "metadata": {
        "id": "wJMCMHwFcC1I"
      }
    },
    {
      "cell_type": "code",
      "execution_count": 1,
      "source": [
        "from glob import glob \n",
        "from google.colab import files\n",
        "import matplotlib.image as mpimg\n",
        "import pickle\n",
        "import random\n",
        "import matplotlib.pyplot as plt\n",
        "import csv\n",
        "import numpy as np\n",
        "import cv2\n",
        "import progressbar\n",
        "import datetime"
      ],
      "outputs": [],
      "metadata": {
        "id": "kGWIFVVPaMx3"
      }
    },
    {
      "cell_type": "markdown",
      "source": [
        "**Retrieve images from external sources**"
      ],
      "metadata": {
        "id": "Uz-TXokVshuI"
      }
    },
    {
      "cell_type": "code",
      "execution_count": 2,
      "source": [
        "# Clone the GitHub repo of mahjong tile images\n",
        "!git clone https://github.com/camerash/mahjong-dataset"
      ],
      "outputs": [
        {
          "output_type": "stream",
          "name": "stdout",
          "text": [
            "Cloning into 'mahjong-dataset'...\n",
            "remote: Enumerating objects: 2565, done.\u001b[K\n",
            "remote: Total 2565 (delta 0), reused 0 (delta 0), pack-reused 2565\u001b[K\n",
            "Receiving objects: 100% (2565/2565), 59.48 MiB | 25.13 MiB/s, done.\n",
            "Resolving deltas: 100% (54/54), done.\n"
          ]
        }
      ],
      "metadata": {
        "id": "1Xxnba9tyEDT",
        "colab": {
          "base_uri": "https://localhost:8080/"
        },
        "outputId": "b12b92e7-82be-470e-be27-45fce4ee5aef"
      }
    },
    {
      "cell_type": "code",
      "execution_count": 3,
      "source": [
        "# Download Describable Textures Dataset (DTD)\n",
        "!wget https://www.robots.ox.ac.uk/~vgg/data/dtd/download/dtd-r1.0.1.tar.gz"
      ],
      "outputs": [
        {
          "output_type": "stream",
          "name": "stdout",
          "text": [
            "--2021-10-04 23:39:15--  https://www.robots.ox.ac.uk/~vgg/data/dtd/download/dtd-r1.0.1.tar.gz\n",
            "Resolving www.robots.ox.ac.uk (www.robots.ox.ac.uk)... 129.67.94.2\n",
            "Connecting to www.robots.ox.ac.uk (www.robots.ox.ac.uk)|129.67.94.2|:443... connected.\n",
            "HTTP request sent, awaiting response... 200 OK\n",
            "Length: 625239812 (596M) [application/x-gzip]\n",
            "Saving to: ‘dtd-r1.0.1.tar.gz’\n",
            "\n",
            "dtd-r1.0.1.tar.gz   100%[===================>] 596.27M  21.4MB/s    in 29s     \n",
            "\n",
            "2021-10-04 23:39:45 (20.3 MB/s) - ‘dtd-r1.0.1.tar.gz’ saved [625239812/625239812]\n",
            "\n"
          ]
        }
      ],
      "metadata": {
        "id": "Xqj--Gy6g0YQ",
        "colab": {
          "base_uri": "https://localhost:8080/"
        },
        "outputId": "2b3816eb-e4e0-4566-f618-af702504d2bd"
      }
    },
    {
      "cell_type": "code",
      "execution_count": 4,
      "source": [
        "# Extract the DTD\n",
        "!tar xf dtd-r1.0.1.tar.gz"
      ],
      "outputs": [],
      "metadata": {
        "id": "fzkm0eIpg0yW"
      }
    },
    {
      "cell_type": "code",
      "execution_count": 5,
      "source": [
        "# Delete the zip folder of DTD\n",
        "!rm dtd-r1.0.1.tar.gz"
      ],
      "outputs": [],
      "metadata": {
        "id": "fdZLUYX-g154"
      }
    },
    {
      "cell_type": "code",
      "execution_count": null,
      "source": [
        "# Load all *jpg from dtd subdirectories and save them in a pickle file (1x)\n",
        "\n",
        "backgrounds_pck_fn=\"backgrounds.pck\"\n",
        "dtd_dir=\"dtd/images/\"\n",
        "bg_images=[]\n",
        "print(\"Loading images ... (It could take several minutes)\")\n",
        "for subdir in glob(dtd_dir+\"/*\"):\n",
        "    for f in glob(subdir+\"/*.jpg\"):\n",
        "        bg_images.append(mpimg.imread(f))\n",
        "pickle.dump(bg_images,open(backgrounds_pck_fn,'wb'))\n",
        "\n",
        "class Backgrounds():\n",
        "    def __init__(self,backgrounds_pck_fn=backgrounds_pck_fn):\n",
        "        self._images=pickle.load(open(backgrounds_pck_fn,'rb'))\n",
        "        self._nb_images=len(self._images)\n",
        "        print(\"Number of images loaded :\", self._nb_images)\n",
        "    def get_random(self, display=False):\n",
        "        bg=self._images[random.randint(0,self._nb_images-1)]\n",
        "        if display: plt.imshow(bg)\n",
        "        return bg\n",
        "\n",
        "backgrounds = Backgrounds()"
      ],
      "outputs": [],
      "metadata": {
        "id": "N-K4nMUBg49U",
        "colab": {
          "base_uri": "https://localhost:8080/"
        },
        "outputId": "5e0ee940-afec-4dc0-9a05-ffa4f94d987b"
      }
    },
    {
      "cell_type": "markdown",
      "source": [
        "**Edit directory**"
      ],
      "metadata": {
        "id": "IrmhNjM4dQvt"
      }
    },
    {
      "cell_type": "code",
      "execution_count": 7,
      "source": [
        "# Create a directory that will contain the images we generate\n",
        "data_dir=\"images\"\n",
        "!mkdir images"
      ],
      "outputs": [],
      "metadata": {
        "id": "LhOzuvRR5Stx"
      }
    },
    {
      "cell_type": "markdown",
      "source": [
        "**Define functions**"
      ],
      "metadata": {
        "id": "fJBBYGpbdTKF"
      }
    },
    {
      "cell_type": "code",
      "execution_count": 8,
      "source": [
        "# Rotate the image to the angle as specified\n",
        "def rotate_tile(image, angle):\n",
        "    # grab the dimensions of the image and then determine the\n",
        "    # center\n",
        "    (h, w) = image.shape[:2]\n",
        "    (cX, cY) = (w // 2, h // 2)\n",
        "\n",
        "    border_color=(255, 255, 255)\n",
        "\n",
        "    # grab the rotation matrix (applying the negative of the\n",
        "    # angle to rotate clockwise), then grab the sine and cosine\n",
        "    # (i.e. the rotation components of the matrix)\n",
        "    M = cv2.getRotationMatrix2D((cX, cY), -angle, 1.0)\n",
        "    cos = np.abs(M[0, 0])\n",
        "    sin = np.abs(M[0, 1])\n",
        " \n",
        "    # compute the new bounding dimensions of the image\n",
        "    nW = int((h * sin) + (w * cos))\n",
        "    nH = int((h * cos) + (w * sin))\n",
        " \n",
        "    # adjust the rotation matrix to take into account translation\n",
        "    M[0, 2] += (nW / 2) - cX\n",
        "    M[1, 2] += (nH / 2) - cY\n",
        " \n",
        "    # perform the actual rotation and return the image\n",
        "    return cv2.warpAffine(image, M, (nW, nH))"
      ],
      "outputs": [],
      "metadata": {
        "id": "CskbcMZG6M9L"
      }
    },
    {
      "cell_type": "code",
      "execution_count": 9,
      "source": [
        "# Resize an image\n",
        "def image_resize(image, width = None, height = None, inter = cv2.INTER_AREA):\n",
        "    # initialize the dimensions of the image to be resized and\n",
        "    # grab the image size\n",
        "    dim = None\n",
        "    (h, w) = image.shape[:2]\n",
        "\n",
        "    # if both the width and height are None, then return the\n",
        "    # original image\n",
        "    if width is None and height is None:\n",
        "        return image\n",
        "\n",
        "    # check to see if the width is None\n",
        "    if width is None:\n",
        "        # calculate the ratio of the height and construct the\n",
        "        # dimensions\n",
        "        r = height / float(h)\n",
        "        dim = (int(w * r), height)\n",
        "\n",
        "    # otherwise, the height is None\n",
        "    else:\n",
        "        # calculate the ratio of the width and construct the\n",
        "        # dimensions\n",
        "        r = width / float(w)\n",
        "        dim = (width, int(h * r))\n",
        "\n",
        "    # resize the image\n",
        "    resized = cv2.resize(image, dim, interpolation = inter)\n",
        "\n",
        "    # return the resized image\n",
        "    return resized"
      ],
      "outputs": [],
      "metadata": {
        "id": "mkuReCFD_7CT"
      }
    },
    {
      "cell_type": "code",
      "execution_count": 10,
      "source": [
        "def create_image_in_grid_format(csv_filename, grid_length=4):\n",
        "  (tile_images, tile_type_of_tile_images) = genrate_images(grid_length)\n",
        "  tile_type_of_tile_images_for_output = tile_type_of_tile_images[:]\n",
        "\n",
        "  # Randomly select a background image\n",
        "  background_image = backgrounds.get_random()\n",
        "\n",
        "  # Copy the background image such that the image would not be mutated  \n",
        "  output_image = cv2.cvtColor(background_image, cv2.COLOR_RGB2RGBA).copy()\n",
        "  \n",
        "  # Resize the background image to standard width and height (i.e. 1024x1024)\n",
        "  # The resize action would result int distortion\n",
        "  resize_specifications = (image_standard_width, image_standard_height)\n",
        "  output_image = cv2.resize(output_image, resize_specifications, \n",
        "                            interpolation = cv2.INTER_AREA)\n",
        "  csv_row_data_placeholder = []\n",
        "\n",
        "  # Place the grid on the resized background image, \n",
        "  # where the black area of the grid would be perceived as transparent\n",
        "  for row_index in range(grid_length): \n",
        "    for column_index in range(grid_length):\n",
        "      tile_img = tile_images[0]\n",
        "      tmp = cv2.cvtColor(tile_img, cv2.COLOR_BGR2GRAY)\n",
        "      _,alpha = cv2.threshold(tmp,0,255,cv2.THRESH_BINARY)\n",
        "      b, g, r, a = cv2.split(tile_img)\n",
        "      rgba = [b,g,r, alpha]\n",
        "      tile_img = cv2.merge(rgba,4)\n",
        "\n",
        "      x_offset = int(((column_index / grid_length) * output_image.shape[1]))\n",
        "      y_offset = int((((row_index) / grid_length) * output_image.shape[0]))\n",
        "\n",
        "      y1, y2 = y_offset, y_offset + tile_img.shape[0]\n",
        "      x1, x2 = x_offset, x_offset + tile_img.shape[1]\n",
        "      \n",
        "      alpha_s = tile_img[:, :, 3] / 255.0\n",
        "      alpha_l = 1.0 - alpha_s\n",
        "      \n",
        "      for c in range(0, 3):\n",
        "        output_image[y1:y2, x1:x2, c] = (alpha_s * tile_img[:, :, c] + alpha_l \n",
        "                                         * output_image[y1:y2, x1:x2, c])\n",
        "        \n",
        "      # Compute the value of relative coordinates\n",
        "      min_x = x1/output_image.shape[1]\n",
        "      max_x = x2/output_image.shape[1]\n",
        "      min_y = y1/output_image.shape[0]\n",
        "      max_y = y2/output_image.shape[0]\n",
        "\n",
        "      # Write data to csv: \n",
        "      # (1) the image filename, \n",
        "      # (2) tile type and \n",
        "      # (3) top-left and bottom-right vertices coordinates \n",
        "      #     of the mahjong tile in the image \n",
        "      csv_row_data_placeholder.append(\n",
        "          (tile_type_of_tile_images[0],min_x,min_y,max_x,max_y))\n",
        "      \n",
        "      del tile_images[0]\n",
        "      del tile_type_of_tile_images[0]\n",
        "\n",
        "  # Save the image\n",
        "  now = datetime.datetime.now()\n",
        "  \n",
        "  string_of_current_moment = str(now.year) + '-' + \\\n",
        "                              str(now.month).zfill(2) + '-' + \\\n",
        "                              str(now.day).zfill(2) + '-'  + \\\n",
        "                              str(now.hour).zfill(2) + '-' + \\\n",
        "                              str(now.minute).zfill(2) + '-' + \\\n",
        "                              str(now.second).zfill(2) + '-' + \\\n",
        "                              str(now.microsecond)  \n",
        "  \n",
        "  filename_of_img_created = data_dir + '/' + string_of_current_moment + '.jpg'\n",
        "  cv2.imwrite(filename_of_img_created, output_image)\n",
        "\n",
        "  # Append row in csv to record labelling information\n",
        "  dataset_types = ['TRAIN', 'TEST', 'VALIDATION']\n",
        "  set_type = random.choices(dataset_types, weights=(80,10,10), k=1)[0]\n",
        "  \n",
        "  for row_data in csv_row_data_placeholder:\n",
        "    (target_tile_type,min_x,min_y,max_x,max_y) = row_data\n",
        "    row_data_to_be_written_in_csv = [set_type,\n",
        "                                     filename_of_img_created,\n",
        "                                     target_tile_type,\n",
        "                                     min_x,min_y,'','',\n",
        "                                     max_x,max_y,'',''] \n",
        "    append_row_to_csv(csv_filename,row_data_to_be_written_in_csv, 'a')\n",
        "\n",
        "  return tile_type_of_tile_images_for_output"
      ],
      "outputs": [],
      "metadata": {
        "id": "vCe_1VC9pyFm"
      }
    },
    {
      "cell_type": "code",
      "execution_count": 11,
      "source": [
        "def genrate_images(grid_length=4):  \n",
        "\n",
        "  directory_of_github_repo_sampling_images = 'mahjong-dataset/tiles-resized/'\n",
        "\n",
        "  grid_size = grid_length * grid_length\n",
        "\n",
        "  tile_images = []\n",
        "  tile_type_of_tile_images = []\n",
        "\n",
        "  for grid_index in range(grid_size):    \n",
        "    selected_tile_type = random.choice(list(lookup_filename_of_tile_img.keys()))\n",
        "    image_samples = lookup_filename_of_tile_img[selected_tile_type]\n",
        "    selected_sample_image = cv2.imread(\n",
        "        directory_of_github_repo_sampling_images + \\\n",
        "        random.choices(image_samples, k=1)[0])\n",
        "    \n",
        "    selected_sample_image = cv2.cvtColor(selected_sample_image, \n",
        "                                         cv2.COLOR_RGB2RGBA).copy()  \n",
        "    \n",
        "    # Rotate the image\n",
        "    rotated_sample_image = rotate_tile(selected_sample_image, \n",
        "                                       random.randrange(5,355))\n",
        "\n",
        "    # The size of the image would change after rotation, \n",
        "    # and thus the rotated image has to be resized, \n",
        "    # by specifying its width to the standard width\n",
        "    resized_sample_image = \\\n",
        "    image_resize(rotated_sample_image, \n",
        "                 height=int(image_standard_height/(grid_length * 1.5)))\n",
        "    resized_sample_image = \\\n",
        "    image_resize(resized_sample_image, \n",
        "                 width=int(image_standard_width/(grid_length * 1.5)))\n",
        "    tile_images.append(resized_sample_image)\n",
        "    tile_type_of_tile_images.append(selected_tile_type)\n",
        "\n",
        "  return (tile_images, tile_type_of_tile_images)"
      ],
      "outputs": [],
      "metadata": {
        "id": "EpO9vJpCBOqJ"
      }
    },
    {
      "cell_type": "code",
      "execution_count": 12,
      "source": [
        "# Check if the annotation target is met.  Annotation target is met only when \n",
        "# all tile types have the annotation number that is \n",
        "# equal or larger than the threshold\n",
        "def check_if_annotation_target_is_met(tile_type_annotations, \n",
        "                                      annotations_target_threshold):\n",
        "  for annotation_occurrence in tile_type_annotations.values():\n",
        "    if annotation_occurrence < annotations_target_threshold:\n",
        "      return False\n",
        "  \n",
        "  return True"
      ],
      "outputs": [],
      "metadata": {
        "id": "Tkd9mf49sNCU"
      }
    },
    {
      "cell_type": "code",
      "execution_count": 13,
      "source": [
        "# Decalre variables to set the size of images in the dataset\n",
        "image_standard_width = image_standard_height = 1024\n",
        "\n",
        "# Declare variables to determine the size of grid.\n",
        "# E.g. for a 4x4 grid, in each image there would be 16 mahjong tiles.\n",
        "min_grid_length = 2\n",
        "max_grid_length = 8\n",
        "\n",
        "# Declare the variable to determine \n",
        "# how many annotations are needed for each tile type\n",
        "target_number_of_annotations_for_each_tile_types = 150"
      ],
      "outputs": [],
      "metadata": {
        "id": "kdfPIWS9YKRC"
      }
    },
    {
      "cell_type": "code",
      "execution_count": 14,
      "source": [
        "# Count the annotation number for determining the progress % in the progress bar\n",
        "def count_annotations_number_for_updating_progress_bar(tile_type_annotations, \n",
        "                                                      annotations_target):\n",
        "    result = 0\n",
        "    for annotation_occurrence in tile_type_annotations.values():\n",
        "      if annotation_occurrence < annotations_target:\n",
        "        result += annotation_occurrence\n",
        "      else:\n",
        "        result += annotations_target\n",
        "    return result"
      ],
      "outputs": [],
      "metadata": {
        "id": "Hu90BFcVDdgV"
      }
    },
    {
      "cell_type": "code",
      "execution_count": 15,
      "source": [
        "# Write data to a csv file\n",
        "def append_row_to_csv(csv_filename, data, write_mode):\n",
        "  with open(csv_filename, write_mode, encoding='UTF8') \\\n",
        "  as dataset_csvfile_for_model_training:\n",
        "    writer = csv.writer(dataset_csvfile_for_model_training)\n",
        "    writer.writerow(data)\n",
        "    dataset_csvfile_for_model_training.close()"
      ],
      "outputs": [],
      "metadata": {
        "id": "gC3JfwEKvajo"
      }
    },
    {
      "cell_type": "code",
      "execution_count": 16,
      "source": [
        "# Read labelling data from the csv file\n",
        "\n",
        "lookup_filename_of_tile_img = {}\n",
        "tile_type_annotations = {}\n",
        "\n",
        "with open('mahjong-dataset/tiles-data/data.csv', newline='') as csvfile:\n",
        "  table = csv.reader(csvfile, delimiter=' ')\n",
        "  for row in table:\n",
        "    row_data = row[0].split(',')\n",
        "    img_file = row_data[0]\n",
        "    tile_type = row_data[2]\n",
        "    if (tile_type == 'label-name' or ('bonus-' in tile_type)):\n",
        "      continue\n",
        "    if ((tile_type in tile_type_annotations) is False):\n",
        "      tile_type_annotations[tile_type] = 0\n",
        "\n",
        "    if (tile_type in lookup_filename_of_tile_img):\n",
        "      lookup_filename_of_tile_img[tile_type].append(img_file)\n",
        "    else:\n",
        "      lookup_filename_of_tile_img[tile_type] = [img_file]\n",
        "  csvfile.close()"
      ],
      "outputs": [],
      "metadata": {
        "id": "rf5zjfKeFKP8"
      }
    },
    {
      "cell_type": "code",
      "execution_count": 17,
      "source": [
        "# Create a csv file that would contain the annotation information of the dataset images\n",
        "csv_filename = 'dataset-for-training-AutoML-Vision-model.csv'\n",
        "header = ['set','path','label','x_min','y_min','x_max',\n",
        "          'y_min','x_max','y_max','x_min','y_max']\n",
        "append_row_to_csv(csv_filename, header, 'w')\n",
        "\n",
        "# Create a progress bar to display progress\n",
        "total_number_of_tile_types = 34\n",
        "progress_bar_max_val = total_number_of_tile_types * \\\n",
        "                        target_number_of_annotations_for_each_tile_types\n",
        "\n",
        "bar = progressbar.ProgressBar(max_value=progress_bar_max_val, \n",
        "                              min_value=0, \n",
        "                              widgets=[progressbar.Bar('=', '[', ']'),\n",
        "                                       ' ', \n",
        "                                       progressbar.Percentage()])\n",
        "annotations_number_for_updaing_progress_bar = 0\n",
        "bar.start()\n",
        "bar.update(annotations_number_for_updaing_progress_bar)\n",
        "\n",
        "# Generate images until the number of annotation target is met\n",
        "annotation_target_is_met = False\n",
        "total_number_of_images_generated = 0\n",
        "while (annotation_target_is_met is False):  \n",
        "  grid_length = random.randint(min_grid_length, max_grid_length)\n",
        "  tile_types_annotated = create_image_in_grid_format(csv_filename, \n",
        "                                                     grid_length)\n",
        "  total_number_of_images_generated += 1\n",
        "  for tile_type in tile_types_annotated:\n",
        "    tile_type_annotations[tile_type] += 1\n",
        "  annotations_number_for_updaing_progress_bar = \\\n",
        "  count_annotations_number_for_updaing_progress_bar(\n",
        "      tile_type_annotations, \n",
        "      target_number_of_annotations_for_each_tile_types)\n",
        "  bar.update(annotations_number_for_updaing_progress_bar)\n",
        "  annotation_target_is_met = \\\n",
        "  check_if_annotation_target_is_met(tile_type_annotations, target_number_of_annotations_for_each_tile_types)\n",
        "\n",
        "bar.finish()\n",
        "print(\"Total number of images generated: \" + str(total_number_of_images_generated))\n",
        "\n",
        "total_number_of_annotations = sum(tile_type_annotations.values())\n",
        "print(\"Total number of annotations created: \" + str(total_number_of_annotations))"
      ],
      "outputs": [
        {
          "output_type": "stream",
          "name": "stderr",
          "text": [
            "[========================================================================] 100%\n"
          ]
        },
        {
          "output_type": "stream",
          "name": "stdout",
          "text": [
            "Total number of images generated: 193\n",
            "Total number of annotations created: 6011\n"
          ]
        }
      ],
      "metadata": {
        "id": "wdpgm00DWssI",
        "colab": {
          "base_uri": "https://localhost:8080/"
        },
        "outputId": "9493c515-b66b-4d84-d44b-175a1fa58a9e"
      }
    }
  ]
}